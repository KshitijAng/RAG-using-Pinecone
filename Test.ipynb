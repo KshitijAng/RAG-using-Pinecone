{
 "cells": [
  {
   "cell_type": "markdown",
   "id": "dd5b42da-c62c-46eb-b5a1-9a6e8ec4f70f",
   "metadata": {},
   "source": [
    "# 1. Import Libraries"
   ]
  },
  {
   "cell_type": "code",
   "execution_count": 1,
   "id": "4d970072-7e30-488d-bfd7-9a500c25f486",
   "metadata": {},
   "outputs": [],
   "source": [
    "import openai\n",
    "import langchain\n",
    "\n",
    "from langchain.document_loaders import PyPDFDirectoryLoader #PDF Loader\n",
    "from langchain.text_splitter import RecursiveCharacterTextSplitter # Text Splitting/Chunking\n",
    "from langchain_openai import OpenAIEmbeddings #Embedding"
   ]
  },
  {
   "cell_type": "code",
   "execution_count": 2,
   "id": "0ac64bc8-d6af-4af9-8161-28a8474818a0",
   "metadata": {},
   "outputs": [
    {
     "data": {
      "text/plain": [
       "True"
      ]
     },
     "execution_count": 2,
     "metadata": {},
     "output_type": "execute_result"
    }
   ],
   "source": [
    "from dotenv import load_dotenv\n",
    "load_dotenv()"
   ]
  },
  {
   "cell_type": "markdown",
   "id": "64af5668-ab84-4019-bc33-7bc80b503d66",
   "metadata": {},
   "source": [
    "# 2. Load and Read Document"
   ]
  },
  {
   "cell_type": "code",
   "execution_count": 3,
   "id": "493b4aa8-8606-4d10-bd10-3574b3f1443c",
   "metadata": {},
   "outputs": [],
   "source": [
    "def read_doc(directory):\n",
    "    file_loader = PyPDFDirectoryLoader(directory)\n",
    "    docs = file_loader.load()\n",
    "    return docs\n",
    "\n",
    "doc = read_doc('documents/')"
   ]
  },
  {
   "cell_type": "code",
   "execution_count": 4,
   "id": "7ac5d99e-7777-40cd-876a-261bf4db1b98",
   "metadata": {},
   "outputs": [
    {
     "data": {
      "text/plain": [
       "58"
      ]
     },
     "execution_count": 4,
     "metadata": {},
     "output_type": "execute_result"
    }
   ],
   "source": [
    "len(doc)"
   ]
  },
  {
   "cell_type": "markdown",
   "id": "83d46698-1ed5-4aed-8bf9-02ddddaf90bf",
   "metadata": {},
   "source": [
    "# 3. Divide the docs into chunks"
   ]
  },
  {
   "cell_type": "code",
   "execution_count": 5,
   "id": "37945fca-caa3-4821-b038-63e2a2530cec",
   "metadata": {},
   "outputs": [],
   "source": [
    "def chunk_data(docs, chunk_size=800,chunk_overlap=50):\n",
    "    text_splitter = RecursiveCharacterTextSplitter(chunk_size=chunk_size,chunk_overlap=chunk_overlap)\n",
    "    doc = text_splitter.split_documents(docs)\n",
    "    return docs\n",
    "    \n",
    "documents = chunk_data(docs=doc)"
   ]
  },
  {
   "cell_type": "code",
   "execution_count": 6,
   "id": "dee6e10d-9af4-4401-88bf-7bb2ad7881db",
   "metadata": {},
   "outputs": [
    {
     "data": {
      "text/plain": [
       "58"
      ]
     },
     "execution_count": 6,
     "metadata": {},
     "output_type": "execute_result"
    }
   ],
   "source": [
    "len(documents)"
   ]
  },
  {
   "cell_type": "markdown",
   "id": "5f9b1eb5-fbe9-44d8-b017-7ac6aac02296",
   "metadata": {},
   "source": [
    "# 4. Embedding Technique and Vector Search DB in Pinecone"
   ]
  },
  {
   "cell_type": "code",
   "execution_count": 7,
   "id": "620e4d0d-b28d-4c05-9b7e-cfcdd4022c7d",
   "metadata": {},
   "outputs": [],
   "source": [
    "import os\n",
    "from langchain_openai import OpenAIEmbeddings\n",
    "\n",
    "embeddings = OpenAIEmbeddings(api_key=os.getenv(\"OPENAI_API_KEY\"))"
   ]
  },
  {
   "cell_type": "code",
   "execution_count": 10,
   "id": "a0166e46-de3b-4ab0-9897-6f70ec144c68",
   "metadata": {},
   "outputs": [
    {
     "name": "stdout",
     "output_type": "stream",
     "text": [
      "1536\n"
     ]
    }
   ],
   "source": [
    "vectors = embeddings.embed_query(\"How are you?\")\n",
    "print(len(vectors))"
   ]
  },
  {
   "cell_type": "code",
   "execution_count": 9,
   "id": "3090246e-afd2-48e9-883d-dd4a4efb5324",
   "metadata": {},
   "outputs": [
    {
     "data": {
      "text/plain": [
       "['70a044f2-3a3a-424c-a2da-3db6c0841cbc',\n",
       " '49b7fd72-82b4-446b-87a3-86d11f148b18',\n",
       " '8d7c5e3c-2f3a-4c2d-a099-08211861c90d',\n",
       " '4f4745e5-3834-4ebd-ab9a-18085f62d45f',\n",
       " 'bab0c038-d81e-4ebd-99c5-d3d9fe601dbd',\n",
       " '083cee6b-d984-41a6-b76a-4de365887d22',\n",
       " 'd35ef291-92b5-4b65-b07a-4dbdd3458a7d',\n",
       " '57093e5f-8979-4c5b-851a-93f0ebbf6ad0',\n",
       " '246e2607-a6d2-42a5-b6a7-a176dba5605e',\n",
       " '0b29bf42-32a2-4b3a-a9b6-1f3b0faaa8a8',\n",
       " 'ba4c4add-9eb3-4b4d-867d-f8331fbf02c0',\n",
       " '64da1cab-a15d-40eb-b2d6-2310bee8cff0',\n",
       " '2c353416-3a05-4863-9d3e-71c4100d4062',\n",
       " '00de21ce-544f-45f5-b7e9-f086009a0f15',\n",
       " 'f283ee39-8cf9-4540-8e23-e5058757d525',\n",
       " '9ae18c1f-9b96-4cc9-8d85-876692678990',\n",
       " '85dee83a-097e-4476-8da7-ffccf15e4224',\n",
       " 'f528987f-126f-463f-944a-11e43e964f0d',\n",
       " '5279e8ce-65ff-4375-9489-ad2b7ee26e16',\n",
       " '355f2fb2-dd10-45d3-8719-cfaeb90fc3e3',\n",
       " '8be928e4-5f4c-448a-bf36-a5146b6c6a69',\n",
       " '3e94d06a-654a-4fb3-b4db-306de215b0e7',\n",
       " 'd4667d27-ad71-4a15-a547-55efe0f7ff87',\n",
       " '87a1c73b-cf41-4d2b-9fc3-ac509e853f33',\n",
       " '81e7771c-50c9-4bf1-89ca-0fff4ee65362',\n",
       " '5bd42013-29d5-41b8-9941-ffd056f30552',\n",
       " '041cd9f0-265c-45e0-82b0-cad4c6c65834',\n",
       " 'd5b4a92e-b03c-41d3-906d-7157679139f8',\n",
       " '6d78892d-73e1-4d5a-a993-a5103bf1e0d2',\n",
       " '35282018-14fc-486b-a338-e00b43710d0c',\n",
       " '1e5796e5-beed-4e8a-a469-32f6229162f2',\n",
       " 'bf1a7b00-0e93-496c-990c-8ce033bc55d2',\n",
       " '3e76634d-2fe7-4698-9808-c8674f96f741',\n",
       " 'c798763a-6e7a-4b49-8db4-4992d86e67b7',\n",
       " '95881d68-9d82-49e9-b419-5d70aeaead36',\n",
       " 'e41d057c-8fa9-4090-918d-c3553198ed2d',\n",
       " '2f02274f-3d99-41d0-87dc-c88a92803678',\n",
       " '84f84758-8884-40ab-8b46-69cb6c250399',\n",
       " '8a21ef4c-123d-4982-bfde-5991bd2c2c10',\n",
       " 'a68903c2-93f0-4dd8-8da1-751e3a65535c',\n",
       " 'f2f64d04-c898-47a8-a50f-0ee05e25853d',\n",
       " '6c6f153a-d160-4364-b4af-b624a3bd96c8',\n",
       " '52aa0ee6-b5ac-478d-ba4f-7e78dc0fcb3f',\n",
       " 'dd42c15c-49d3-44e0-80a5-ad7acff50bc0',\n",
       " '10b64300-10eb-4e40-bed2-073cdf7bd0e4',\n",
       " 'bccb693e-aa16-4e50-b4c6-11b7fa7bd1d7',\n",
       " '186ef276-2006-4973-9967-24ed6435478b',\n",
       " 'cd5645c9-3ce5-460b-8a80-38defd08befa',\n",
       " '83c00720-3606-48fd-b623-b3f11bee537f',\n",
       " 'e5bae0fa-9b84-4cd9-b60c-deb296b6ac24',\n",
       " '063fd6a2-b0fd-445d-a0b8-101791bfe7a5',\n",
       " 'd2fb9f5e-0f35-4677-8b18-f9a070f8f9df',\n",
       " '3a4cbfdc-afda-462c-8236-ce86c26f7c22',\n",
       " '8595eb99-ed12-41ec-924b-abbb3dd244df',\n",
       " '5868820f-1a37-402b-a70f-23ffd78db77d',\n",
       " 'adfdc14c-318b-4c40-adc2-7f1c9a6214f0',\n",
       " 'c0bfb384-5826-48f3-a880-91b4805c231f',\n",
       " 'c54a75eb-7f2c-4393-81e0-b5c6e85111fb']"
      ]
     },
     "execution_count": 9,
     "metadata": {},
     "output_type": "execute_result"
    }
   ],
   "source": [
    "import os\n",
    "from langchain_pinecone import PineconeVectorStore\n",
    "\n",
    "os.environ[\"PINECONE_API_KEY\"]='pcsk_4tfXCG_4DhfeBtcSKsKxLHtYvUbXosV8A8PuXCTWuVc6tQ7HA5Gtok9hJ9NVp6gzYvLZCC'\n",
    "\n",
    "index_name = \"ragpinecone\"\n",
    "\n",
    "vs = PineconeVectorStore(index_name=index_name,embedding = embeddings)\n",
    "vs.add_documents(documents)"
   ]
  },
  {
   "cell_type": "markdown",
   "id": "232af5a3-ca7b-4f27-afcd-08169334aa6c",
   "metadata": {},
   "source": [
    "# 5. Query and LLM"
   ]
  },
  {
   "cell_type": "code",
   "execution_count": 11,
   "id": "c9e1b52d-8951-424d-aa5c-f94025f659e1",
   "metadata": {},
   "outputs": [],
   "source": [
    "from langchain.chains.question_answering import load_qa_chain\n",
    "from langchain import OpenAI\n",
    "\n",
    "llm=OpenAI(model_name=\"gpt-3.5-turbo-instruct\",temperature=0.5)\n",
    "chain=load_qa_chain(llm,chain_type=\"stuff\")"
   ]
  },
  {
   "cell_type": "code",
   "execution_count": 12,
   "id": "a16a1420-c9f6-4fa5-a3a8-9f898775936b",
   "metadata": {},
   "outputs": [],
   "source": [
    "## Cosine Similarity Retreive Results from VectorDB\n",
    "def retrieve_query(query,k=10):\n",
    "    matching_results=vs.similarity_search(query,k=k)\n",
    "    return matching_results\n",
    "\n",
    "## Search answers from VectorDB\n",
    "def retrieve_answers(query):\n",
    "    doc_search=retrieve_query(query)\n",
    "    print(doc_search)\n",
    "    response=chain.run(input_documents=doc_search,question=query)\n",
    "    return response"
   ]
  },
  {
   "cell_type": "code",
   "execution_count": 13,
   "id": "7b971b2f-a432-44a4-8db9-1baae8178f6f",
   "metadata": {},
   "outputs": [
    {
     "name": "stdout",
     "output_type": "stream",
     "text": [
      "[Document(id='ba4c4add-9eb3-4b4d-867d-f8331fbf02c0', metadata={'creationdate': '2023-02-01T05:28:04+05:30', 'creator': 'Adobe Acrobat Pro 10.1.16', 'moddate': '2023-02-01T08:28:21+05:30', 'page': 10.0, 'page_label': '11', 'producer': 'Adobe Acrobat Pro 10.1.16', 'source': 'documents/budget_speech.pdf', 'title': '', 'total_pages': 58.0}, page_content=\"7 \\n \\n \\n \\nfarmers in contributing to the health of fellow citizens by growing these \\n‘Shree Anna’.  \\n22. Now to make India a global hub for ' Shree Anna', the Indian Institute \\nof Millet Research, Hyderabad will be supported as the Centre of Excellence \\nfor sharing best practices, research and technologies at the international \\nlevel.    \\nAgriculture Credit  \\n23. The agriculture credit target will be increased  \\nto ` 20 lakh crore with focus on animal husbandry, dairy and fisheries.  \\nFisheries \\n24. We will launch a new sub-scheme of PM Matsya Sampada Yojana \\nwith targeted investment of ` 6,000 crore to further enable activities of \\nfishermen, fish vendors, and micro & small enterprises, improve value chain \\nefficiencies, and expand the market. \\nCooperation \\n25. For farmers, especially small and marginal farmers, and other \\nmarginalised sections, the government is promoting cooperative-based \\neconomic development model. A new Ministry of Cooperation was formed \\nwith a mandate to realise the vision of ‘Sahakar Se Samriddhi’. To realise \\nthis vision, the government has already initiated computerisation of 63,000 \\nPrimary Agricultural Credit Societies (PACS) with an investment of ` 2,516 \\ncrore. In consultation with all stakeholders and states, model bye-laws for \\nPACS were formulated enabling them to become multipurpose PACS. A \\nnational cooperative database is being prepared for country-wide mapping \\nof cooperative societies.  \\n26. With this backdrop, we will implement a plan to set up massive \\ndecentralised storage capacity. This will help farmers store their produce \\nand realize remunerative prices through sale at appropriate times. The \\ngovernment will also facilitate setting up of a large number of multipurpose\"), Document(id='9ae18c1f-9b96-4cc9-8d85-876692678990', metadata={'creationdate': '2023-02-01T05:28:04+05:30', 'creator': 'Adobe Acrobat Pro 10.1.16', 'moddate': '2023-02-01T08:28:21+05:30', 'page': 15.0, 'page_label': '16', 'producer': 'Adobe Acrobat Pro 10.1.16', 'source': 'documents/budget_speech.pdf', 'title': '', 'total_pages': 58.0}, page_content='12 \\n \\n \\n \\nSupport to State Governments for Capital Investment \\n47. I have decided to continue the 50-year interest free loan to state \\ngovernments for one more year to spur investment in infrastructure and to \\nincentivize them for complementary policy actions, with a significantly \\nenhanced outlay of ` 1.3 lakh crore.   \\nEnhancing opportunities for private investment in Infrastructure \\n48. The newly established Infrastructure Finance Secretariat will assist \\nall stakeholders for more private investment in infrastructure, including \\nrailways, roads, urban infrastructure and power, which are predominantly \\ndependent on public resources.  \\nHarmonized Master List of Infrastructure \\n49. The Harmonized Master List of Infrastructure will be reviewed by an \\nexpert committee for recommending the classification and financing \\nframework suitable for Amrit Kaal. \\nRailways \\n50. A capital outlay of ` 2.40 lakh crore has been provided for the \\nRailways. This highest ever outlay is about 9 times the outlay made in 2013-\\n14.  \\nLogistics \\n51. One hundred critical transport infrastructure projects, for last and \\nfirst mile connectivity for ports, coal, steel, fertilizer, and food grains sectors \\nhave been identified. They will be taken up on priority with investment of \\n` 75,000 crore, including ` 15,000 crore from private sources. \\nRegional Connectivity \\n52. Fifty additional airports, heliports, water aerodromes and advance \\nlanding grounds will be revived for improving regional air connectivity.'), Document(id='0b29bf42-32a2-4b3a-a9b6-1f3b0faaa8a8', metadata={'creationdate': '2023-02-01T05:28:04+05:30', 'creator': 'Adobe Acrobat Pro 10.1.16', 'moddate': '2023-02-01T08:28:21+05:30', 'page': 9.0, 'page_label': '10', 'producer': 'Adobe Acrobat Pro 10.1.16', 'source': 'documents/budget_speech.pdf', 'title': '', 'total_pages': 58.0}, page_content=\"6 \\n \\n \\n \\ninclusive, farmer-centric solutions through relevant information services for \\ncrop planning and health, improved access to farm inputs, credit, and \\ninsurance, help for crop estimation, market intelligence, and support for \\ngrowth of agri-tech industry and start-ups.  \\nAgriculture Accelerator Fund \\n17. An Agriculture Accelerator Fund will be set-up to encourage agri-\\nstartups by young entrepreneurs in rural areas. The Fund will aim at \\nbringing innovative and affordable solutions for challenges faced by \\nfarmers. It will also bring in modern technologies to transform agricultural \\npractices, increase productivity and profitability. \\nEnhancing productivity of cotton crop  \\n18. To enhance the productivity of extra-long staple cotton, we will \\nadopt a cluster-based and value chain approach through Public Private \\nPartnerships (PPP). This will mean collaboration between farmers, state and \\nindustry for input supplies, extension services, and market linkages. \\nAtmanirbhar Horticulture Clean Plant Program  \\n19. We will launch an Atmanirbhar Clean Plant Program to boost \\navailability of disease-free, quality planting material for high value \\nhorticultural crops at an outlay of ` 2,200 crore. \\nGlobal Hub for Millets: ‘Shree Anna’ \\n20. “India is at the forefront of popularizing Millets, whose consumption \\nfurthers nutrition, food security and welfare of farmers,” said Hon’ble Prime \\nMinister. \\n21.  We are the largest producer and second largest exporter of ‘Shree \\nAnna’ in the world. We grow several types of ' Shree Anna'  such as  jowar, \\nragi, bajra, kuttu, ramdana, kangni, kutki, kodo, cheena, and sama. These \\nhave a number of health benefits, and have been an integral part of our \\nfood for centuries. I acknowledge with pride the huge service done by small\"), Document(id='00de21ce-544f-45f5-b7e9-f086009a0f15', metadata={'creationdate': '2023-02-01T05:28:04+05:30', 'creator': 'Adobe Acrobat Pro 10.1.16', 'moddate': '2023-02-01T08:28:21+05:30', 'page': 13.0, 'page_label': '14', 'producer': 'Adobe Acrobat Pro 10.1.16', 'source': 'documents/budget_speech.pdf', 'title': '', 'total_pages': 58.0}, page_content='10 \\n \\n \\n \\nAspirational Districts and Blocks Programme \\n36. Building on the success of the Aspirational Districts Programme, the \\nGovernment has recently launched the Aspirational Blocks Programme \\ncovering 500 blocks for saturation of essential government services across \\nmultiple domains such as health, nutrition, education, agriculture, water \\nresources, financial inclusion, skill development, and basic infrastructure. \\nPradhan Mantri PVTG Development Mission \\n37. To improve socio-economic conditions of the particularly vulnerable \\ntribal groups (PVTGs), Pradhan Mantri PVTG Development Mission will be \\nlaunched. This will saturate PVTG families and habitations with basic \\nfacilities such as safe housing, clean drinking water and sanitation, \\nimproved access to education, health and nutrition, road and telecom \\nconnectivity, and sustainable livelihood opportunities. An amount  \\nof ` 15,000 crore will be made available to implement the Mission in the \\nnext three years under the Development Action Plan for the Scheduled \\nTribes.  \\nEklavya Model Residential Schools \\n38. In the next three years, centre will recruit 38,800 teachers and \\nsupport staff for the 740 Eklavya Model Residential Schools, serving 3.5 lakh \\ntribal students. \\nWater for Drought Prone Region \\n39. In the drought prone central region of Karnataka, central assistance \\nof ` 5,300 crore will be given to Upper Bhadra Project to provide \\nsustainable micro irrigation and filling up of surface tanks for drinking \\nwater.  \\nPM Awas Yojana \\n40. The outlay for PM Awas Yojana is being enhanced \\n by 66 per cent to over ` 79,000 crore.'), Document(id='3e94d06a-654a-4fb3-b4db-306de215b0e7', metadata={'creationdate': '2023-02-01T05:28:04+05:30', 'creator': 'Adobe Acrobat Pro 10.1.16', 'moddate': '2023-02-01T08:28:21+05:30', 'page': 21.0, 'page_label': '22', 'producer': 'Adobe Acrobat Pro 10.1.16', 'source': 'documents/budget_speech.pdf', 'title': '', 'total_pages': 58.0}, page_content='18 \\n \\n \\n \\nViability Gap Funding. A detailed framework for Pumped Storage Projects \\nwill also be formulated.  \\nRenewable Energy Evacuation \\n80. The Inter-state transmission system for evacuation and grid \\nintegration of 13 GW renewable energy from Ladakh will be constructed \\nwith investment of ` 20,700 crore including central support of ` 8,300 crore. \\nGreen Credit Programme \\n81. For encouraging behavioural change, a Green Credit Programme will \\nbe notified under the Environment (Protection) Act. This will incentivize \\nenvironmentally sustainable and responsive actions by companies, \\nindividuals and local bodies, and help mobilize additional resources for such \\nactivities.  \\nPM-PRANAM \\n82. “PM Programme for Restoration, Awareness, Nourishment and \\nAmelioration of Mother Earth” will be launched to incentivize States and \\nUnion Territories to promote alternative fertilizers and balanced use of \\nchemical fertilizers. \\nGOBARdhan scheme \\n83. 500 new ‘waste to wealth’ plants under GOBARdhan (Galvanizing \\nOrganic Bio-Agro Resources Dhan) scheme will be established for promoting \\ncircular economy. These will include 200 compressed biogas (CBG) plants, \\nincluding 75 plants in urban areas, and 300 community or cluster-based \\nplants at total investment of ` 10,000 crore. I will refer to this in Part B. In \\ndue course, a 5 per cent CBG mandate will be introduced for all \\norganizations marketing natural and bio gas. For collection of bio-mass and \\ndistribution of bio-manure, appropriate fiscal support will be provided.'), Document(id='d35ef291-92b5-4b65-b07a-4dbdd3458a7d', metadata={'creationdate': '2023-02-01T05:28:04+05:30', 'creator': 'Adobe Acrobat Pro 10.1.16', 'moddate': '2023-02-01T08:28:21+05:30', 'page': 6.0, 'page_label': '7', 'producer': 'Adobe Acrobat Pro 10.1.16', 'source': 'documents/budget_speech.pdf', 'title': '', 'total_pages': 58.0}, page_content='3 \\n \\n \\n \\n9. The economy has become a lot more formalised as reflected in the \\nEPFO membership more than doubling to 27 crore, and 7,400 crore digital \\npayments of ` 126 lakh crore through UPI in 2022.    \\n10. The efficient implementation of many schemes, with \\nuniversalisation of targeted benefits, has resulted in inclusive development. \\nSome of the schemes are: \\ni. 11.7 crore household toilets under Swachh Bharat Mission,  \\nii. 9.6 crore LPG connections under Ujjawala,  \\niii. 220 crore Covid vaccination of 102 crore persons,    \\niv. 47.8 crore PM Jan Dhan bank accounts, \\nv. Insurance cover for 44.6 crore persons under PM Suraksha \\nBima and PM Jeevan Jyoti Yojana, and \\nvi. Cash transfer of ` 2.2 lakh crore to over 11.4 crore farmers \\nunder PM Kisan Samman Nidhi. \\nVision for Amrit Kaal – an empowered and inclusive economy \\n11. Our vision for the Amrit Kaal  includes technology-driven and \\nknowledge-based economy with strong public finances, and a robust \\nfinancial sector. To achieve this, Jan Bhagidari through Sabka Saath Sabka \\nPrayas is essential.   \\n12. The economic agenda for achieving this vision focuses on three \\nthings: first, facilitating ample opportunities for citizens, especially the \\nyouth, to fulfil their aspirations; second, providing strong impetus to growth \\nand job creation; and third, strengthening macro-economic stability.    \\n13. To service these focus areas in our journey to India@100, we believe \\nthat the following four opportunities can be transformative during Amrit \\nKaal.'), Document(id='f283ee39-8cf9-4540-8e23-e5058757d525', metadata={'creationdate': '2023-02-01T05:28:04+05:30', 'creator': 'Adobe Acrobat Pro 10.1.16', 'moddate': '2023-02-01T08:28:21+05:30', 'page': 14.0, 'page_label': '15', 'producer': 'Adobe Acrobat Pro 10.1.16', 'source': 'documents/budget_speech.pdf', 'title': '', 'total_pages': 58.0}, page_content='11 \\n \\n \\n \\nBharat Shared Repository of Inscriptions (Bharat SHRI) \\n41. ‘Bharat Shared Repository of Inscriptions’ will be set up in a digital \\nepigraphy museum, with digitization of one lakh ancient inscriptions in the \\nfirst stage.   \\nSupport for poor prisoners \\n42. For poor persons who are in prisons and unable to afford the \\npenalty or the bail amount, required financial support will be provided.   \\n \\nPriority 3: Infrastructure & Investment \\n43. Investments in Infrastructure and productive capacity have a large \\nmultiplier impact on growth and employment. After the subdued period of \\nthe pandemic, private investments are growing again. The Budget takes the \\nlead once again to ramp up the virtuous cycle of investment and job \\ncreation.    \\n \\nCapital Investment as driver of growth and jobs \\n44. Capital investment outlay is being increased steeply for the third \\nyear in a row by 33 per cent to ` 10 lakh crore, which would be 3.3 per cent \\nof GDP. This will be almost three times the outlay in 2019-20.   \\n45. This substantial increase in recent years is central to the \\ngovernment’s efforts to enhance growth potential and job creation, crowd-\\nin private investments, and provide a cushion against global headwinds. \\nEffective Capital Expenditure  \\n46. The direct capital investment by the Centre is complemented by the \\nprovision made for creation of capital assets through Grants-in-Aid to \\nStates. The ‘Effective Capital Expenditure’ of the Centre is budgeted at  \\n` 13.7 lakh crore, which will be 4.5 per cent of GDP.'), Document(id='d4667d27-ad71-4a15-a547-55efe0f7ff87', metadata={'creationdate': '2023-02-01T05:28:04+05:30', 'creator': 'Adobe Acrobat Pro 10.1.16', 'moddate': '2023-02-01T08:28:21+05:30', 'page': 22.0, 'page_label': '23', 'producer': 'Adobe Acrobat Pro 10.1.16', 'source': 'documents/budget_speech.pdf', 'title': '', 'total_pages': 58.0}, page_content='19 \\n \\n \\n \\nBhartiya Prakritik Kheti Bio-Input Resource Centres   \\n84. Over the next 3 years, we will facilitate 1 crore farmers to adopt \\nnatural farming. For this, 10,000 Bio-Input Resource Centres will be set-up, \\ncreating a national-level distributed micro-fertilizer and pesticide \\nmanufacturing network.  \\nMISHTI \\n85. Building on India’s success in afforestation, ‘Mangrove Initiative for \\nShoreline Habitats & Tangible Incomes’, MISHTI, will be taken up for \\nmangrove plantation along the coastline and on salt pan lands, wherever \\nfeasible, through convergence between MGNREGS, CAMPA Fund and other \\nsources. \\nAmrit Dharohar \\n86. Wetlands are vital ecosystems which sustain biological diversity. In \\nhis latest Mann Ki Baat, the Prime Minister said, “Now the total number of \\nRamsar sites in our country has increased to 75. Whereas, before 2014, \\nthere were only 26…”  Local communities have always been at the forefront \\nof conservation efforts. The government will promote their unique \\nconservation values through Amrit Dharohar , a scheme that will be \\nimplemented over the next three years to encourage optimal use of \\nwetlands, and enhance bio-diversity, carbon stock,  \\neco-tourism opportunities and income generation for local communities.  \\nCoastal Shipping \\n87. Coastal shipping will be promoted as the energy efficient and lower \\ncost mode of transport, both for passengers and freight, through PPP mode \\nwith viability gap funding.   \\nVehicle Replacement \\n88. Replacing old polluting vehicles is an important part of greening our \\neconomy. In furtherance of the vehicle scrapping policy mentioned in \\nBudget 2021-22, I have allocated adequate funds to scrap old vehicles of'), Document(id='083cee6b-d984-41a6-b76a-4de365887d22', metadata={'creationdate': '2023-02-01T05:28:04+05:30', 'creator': 'Adobe Acrobat Pro 10.1.16', 'moddate': '2023-02-01T08:28:21+05:30', 'page': 5.0, 'page_label': '6', 'producer': 'Adobe Acrobat Pro 10.1.16', 'source': 'documents/budget_speech.pdf', 'title': '', 'total_pages': 58.0}, page_content='2 \\n \\n \\n \\nprofile is because of several accomplishments: unique world class digital \\npublic infrastructure, e.g., Aadhaar, Co-Win and UPI; Covid vaccination drive \\nin unparalleled scale and speed; proactive role in frontier areas such as \\nachieving the climate related goals, mission LiFE, and National Hydrogen \\nMission.  \\n5. During the Covid-19 pandemic, we ensured that no one goes to bed \\nhungry, with a scheme to supply free food grains to over 80 crore persons \\nfor 28 months. Continuing our commitment to ensure food and nutritional \\nsecurity, we are implementing, from 1 st January 2023, a scheme to supply \\nfree food grain to all Antyodaya and priority households for the next one \\nyear, under PM Garib Kalyan Anna Yojana (PMGKAY). The entire \\nexpenditure of about ` 2 lakh crore will be borne by the Central \\nGovernment. \\nG20 Presidency: Steering the global agenda through challenges \\n6. In these times of global challenges, the G20 Presidency gives us a \\nunique opportunity to strengthen India’s role in the world economic order. \\nWith the theme of ‘ Vasudhaiva Kutumbakam’ , we are steering an \\nambitious, people-centric agenda to address global challenges, and to \\nfacilitate sustainable economic development.  \\nAchievements since 2014: Leaving no one behind \\n7. The government’s efforts since 2014 have ensured for all citizens a \\nbetter quality of living and a life of dignity. The per capita income has more \\nthan doubled to ` 1.97 lakh.   \\n8. In these nine years, the Indian economy has increased in size from \\nbeing 10th to 5 th largest in the world. We have significantly improved our \\nposition as a well-governed and innovative country with a conducive \\nenvironment for business as reflected in several global indices. We have \\nmade significant progress in many Sustainable Development Goals.'), Document(id='95881d68-9d82-49e9-b419-5d70aeaead36', metadata={'creationdate': '2023-02-01T05:28:04+05:30', 'creator': 'Adobe Acrobat Pro 10.1.16', 'moddate': '2023-02-01T08:28:21+05:30', 'page': 34.0, 'page_label': '35', 'producer': 'Adobe Acrobat Pro 10.1.16', 'source': 'documents/budget_speech.pdf', 'title': '', 'total_pages': 58.0}, page_content='31 \\n \\n \\n \\n136. First, new co-operatives that commence manufacturing activities till \\n31.3.2024 shall get the benefit of a lower tax rate of 15 per cent, as is \\npresently available to new manufacturing companies. \\n137. Secondly, I propose to provide an opportunity to sugar co-operatives \\nto claim payments made to sugarcane farmers for the period prior to \\nassessment year 2016-17 as expenditure. This is expected to provide them \\nwith a relief of almost ` 10,000 crore.  \\n138. Thirdly, I am providing a higher limit of ` 2 lakh per member for cash \\ndeposits to and loans in cash by Primary Agricultural Co-operative Societies \\n(PACS) and Primary Co-operative Agriculture and Rural Development Banks \\n(PCARDBs).  \\n139. Similarly, a higher limit of ` 3 crore for TDS on cash withdrawal is \\nbeing provided to co-operative societies. \\nStart-Ups \\n140. Entrepreneurship is vital for a country’s economic development. We \\nhave taken a number of measures for start-ups and they have borne results. \\nIndia is now the third largest ecosystem for start-ups globally, and ranks \\nsecond in innovation quality among middle-income countries. I propose to \\nextend the date of incorporation for income tax benefits to start-ups from \\n31.03.23 to 31.3.24. I further propose to provide the benefit of carry \\nforward of losses on change of shareholding of start-ups from seven years \\nof incorporation to ten years. \\nAppeals \\n141. To reduce the pendency of appeals at Commissioner level, I propose \\nto deploy about 100 Joint Commissioners for disposal of small appeals. We \\nshall also be more selective in taking up cases for scrutiny of returns already \\nreceived this year.')]\n"
     ]
    },
    {
     "name": "stderr",
     "output_type": "stream",
     "text": [
      "/var/folders/yw/sw7qxp815y5gk5g_nc21rd_80000gn/T/ipykernel_1952/1403838439.py:10: LangChainDeprecationWarning: The method `Chain.run` was deprecated in langchain 0.1.0 and will be removed in 1.0. Use :meth:`~invoke` instead.\n",
      "  response=chain.run(input_documents=doc_search,question=query)\n"
     ]
    },
    {
     "name": "stdout",
     "output_type": "stream",
     "text": [
      " The agriculture credit target will be increased to ` 20 lakh crore.\n"
     ]
    }
   ],
   "source": [
    "our_query = \"How much the agriculture target will be increased by how many crore?\"\n",
    "answer = retrieve_answers(our_query)\n",
    "print(answer)"
   ]
  }
 ],
 "metadata": {
  "kernelspec": {
   "display_name": "Python 3 (ipykernel)",
   "language": "python",
   "name": "python3"
  },
  "language_info": {
   "codemirror_mode": {
    "name": "ipython",
    "version": 3
   },
   "file_extension": ".py",
   "mimetype": "text/x-python",
   "name": "python",
   "nbconvert_exporter": "python",
   "pygments_lexer": "ipython3",
   "version": "3.11.8"
  }
 },
 "nbformat": 4,
 "nbformat_minor": 5
}
